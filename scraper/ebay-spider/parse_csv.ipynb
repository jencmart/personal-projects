{
 "cells": [
  {
   "cell_type": "code",
   "execution_count": 6,
   "metadata": {
    "collapsed": true,
    "pycharm": {
     "is_executing": false
    }
   },
   "outputs": [],
   "source": [
    "import pandas as pd\n",
    "import os\n",
    "import glob"
   ]
  },
  {
   "cell_type": "code",
   "execution_count": 25,
   "outputs": [],
   "source": [
    "list_of_files = glob.glob('././scraped-data/*') # * means all if need specific format then *.csv\n",
    "\n",
    "latest_file = max(list_of_files, key=os.path.getctime)\n",
    "df = pd.read_csv(latest_file)\n",
    "\n",
    "\n",
    "df.Price = df.Price.str[:-4]\n",
    "df.Price = df.Price.str.replace(\",\", \"\")\n",
    "df.Price = pd.to_numeric(df.Price)\n",
    "\n",
    "df.Name = df.Name.str.replace(\"Thinkpad\", \"\")\n",
    "df.Name = df.Name.str.replace(\"thinkpad\", \"\")\n",
    "df.Name = df.Name.str.replace(\"ThinkPad\", \"\")\n",
    "df.Name = df.Name.str.replace(\"laptop\", \"\")\n",
    "df.Name = df.Name.str.replace(\"Laptop\", \"\")\n",
    "df.Name = df.Name.str.replace(\"Notebook\", \"\")\n",
    "df.Name = df.Name.str.replace(\"notebook\", \"\")\n",
    "df.Name = df.Name.str.replace(\"LCD\", \"\")\n",
    "df.Name = df.Name.str.replace(\"14,1\\\"\", \"\")\n",
    "df.Name = df.Name.str.replace(\"14.1\\\"\", \"\")\n",
    "\n",
    "df.Name = df.Name.str.replace(\"Ultrabook\", \"\")\n",
    "df.Name = df.Name.str.replace(\"ultrabook\", \"\")\n",
    "df.Name = df.Name.str.replace(\"Lenovo\", \"\")\n",
    "df.Name = df.Name.str.replace(\"lenovo\", \"\")\n",
    "df.Name = df.Name.str.replace(\"Intel\", \"\")\n",
    "df.Name = df.Name.str.replace(\"Core\", \"\")\n",
    "df.Name = df.Name.str.replace(\"Fast\", \"\")\n",
    "df.Name = df.Name.str.replace(\"Model\", \"\")\n",
    "df.Name = df.Name.str.replace(\"14\\\"\", \"\")\n",
    "\n",
    "df.Name = df.Name.str.replace(\"Order\", \"\")\n",
    "df.Name = df.Name.str.replace(\"Now\", \"\")\n",
    "df.Name = df.Name.str.replace(\"NOW\", \"\")\n",
    "df.Name = df.Name.str.replace(\"Quad\", \"\")\n",
    "df.Name = df.Name.str.replace(\"Excel\", \"\")\n",
    "df.Name = df.Name.str.replace(\"Wifi\", \"\")\n",
    "df.Name = df.Name.str.replace(\"SSD\", \"\")\n",
    "df.Name = df.Name.str.replace(\"Backlit\", \"\")\n",
    "df.Name = df.Name.str.replace(\"HDMI\", \"\")\n",
    "df.Name = df.Name.str.replace(\"HDMi\", \"\")\n",
    "df.Name = df.Name.str.replace(\"SLiM\", \"\")\n",
    "df.Name = df.Name.str.replace(\"•\", \" \")\n",
    "df.Name = df.Name.str.replace(\"*\", \" \")\n",
    "df.Name = df.Name.str.replace(\"~\", \" \")\n",
    "df.Name = df.Name.str.replace(\"SliM\", \"\")\n",
    "df.Name = df.Name.str.replace(\"SLiM\", \"\")\n",
    "\n",
    "df.Name = df.Name.str.replace(\"Inch\", \"\")\n",
    "df.Name = df.Name.str.replace(\"inch\", \"\")\n",
    "df.Name = df.Name.str.replace(\"Windows 10 Pro\", \"\")\n",
    "df.Name = df.Name.str.replace(\"Windows 10 pro\", \"\")\n",
    "df.Name = df.Name.str.replace(\"Windows 10\", \"\")\n",
    "df.Name = df.Name.str.replace(\"Windows\", \"\")\n",
    "df.Name = df.Name.str.replace(\"Win7\", \"\")\n",
    "df.Name = df.Name.str.replace(\"Win10\", \"\")\n",
    "df.Name = df.Name.str.replace(\"Inch\", \"\")\n",
    "df.Name = df.Name.str.replace(\"inch\", \"\")\n",
    "df.Name = df.Name.str.replace(\"Web cam\", \"\")\n",
    "df.Name = df.Name.str.replace(\"Web Cam\", \"\")\n",
    "df.Name = df.Name.str.replace(\"Webcam\", \"\")\n",
    "df.Name = df.Name.str.replace(\"webcam\", \"\")\n",
    "df.Name = df.Name.str.replace(\"intel\", \"\")\n",
    "df.Name = df.Name.str.replace(\"Intel\", \"\")\n",
    "\n",
    "df.Name = df.Name.str.replace(\"Fingerprint\", \"\")\n",
    "\n",
    "\n",
    "# 'str' + df['col'].astype(str)\n",
    "# \n",
    "# df.Link = df.Link + \".html\"\n",
    "# df.Link = df.Link.str.replace(\"https\", \"http\")\n"
   ],
   "metadata": {
    "collapsed": false,
    "pycharm": {
     "name": "#%%\n",
     "is_executing": false
    }
   }
  },
  {
   "cell_type": "code",
   "execution_count": 26,
   "outputs": [],
   "source": [
    "excluded_list = [ \"3317\", \"3337\", \"3427\", \"3667\",  \n",
    "                 \"4200\", \"4210\", \"4300\", \"4500\", \"4600\",  #2gen\n",
    "                 \"5200\", \"5300\", \"5500\", \"5600\", # 3gen\n",
    "                 \"6200\", \"6300\", \"6500\", \"6600\", # 4gen\n",
    "                 \"7200\", \"7300\",  # 5gen\n",
    "                 \"yoga\", \"Yoga\", \"Yoga\", \"YOGA\", \"yoga\",\n",
    "                  \"IdeaPad\", \"ideapad\", \"idea pad\", \"Idea Pad\", \"Ideapad\"\n",
    "                 \"g1\", \"1g\", \"1Gen\",  \"Gen 2\", \"1.Gen\", \"1st Gen\", \"1ST\" ,  \"1st gen\",  \"Generation 1\",\n",
    "                 \"g2\", \"2g\", \"2Gen\",  \"Gen 2\", \"2.Gen\", \"2nd Gen\", \"2ND\", \"2nd gen\", \"Generation 2\",\n",
    "                 \"g3\", \"3g\", \"3Gen\",  \"Gen 3\", \"3.Gen\", \"3th Gen\", \"3RD\", \"3th gen\", \"Generation 3\",\n",
    "                  \"3rd Gen\",  \"3rd gen\", \"Generation 3\"\n",
    "                  \"FOR PARTS\", \"PARTS\", \"for parts\", \"WITHOUT\", \"MISSING\", \"FOR PARTS\", \"Parts\", \"parts\", \"PARTS\",\n",
    "                  ]"
   ],
   "metadata": {
    "collapsed": false,
    "pycharm": {
     "name": "#%%\n",
     "is_executing": false
    }
   }
  },
  {
   "cell_type": "code",
   "execution_count": 27,
   "outputs": [],
   "source": [
    "df2 = df\n",
    "for excluded in excluded_list:\n",
    "    condition= ~df2.Name.str.contains(excluded.lower())\n",
    "    df2.where(cond=condition, inplace=True)\n",
    "    df2.dropna(inplace=True)\n"
   ],
   "metadata": {
    "collapsed": false,
    "pycharm": {
     "name": "#%%\n",
     "is_executing": false
    }
   }
  },
  {
   "cell_type": "code",
   "execution_count": 28,
   "outputs": [],
   "source": [
    "max_price = 16000\n",
    "df3 = df2.where(df2.Price<max_price)\n",
    "df3.dropna(inplace=True)\n",
    "df4 = df3.sort_values(by='Price', ascending=False)"
   ],
   "metadata": {
    "collapsed": false,
    "pycharm": {
     "name": "#%%\n",
     "is_executing": false
    }
   }
  },
  {
   "cell_type": "code",
   "execution_count": 29,
   "outputs": [],
   "source": [
    "df4.to_csv(\"./../visualiser/data/result.csv\")\n",
    "\n"
   ],
   "metadata": {
    "collapsed": false,
    "pycharm": {
     "name": "#%%\n",
     "is_executing": false
    }
   }
  },
  {
   "cell_type": "code",
   "execution_count": null,
   "outputs": [],
   "source": [],
   "metadata": {
    "collapsed": false,
    "pycharm": {
     "name": "#%%\n"
    }
   }
  }
 ],
 "metadata": {
  "kernelspec": {
   "name": "pycharm-9b160d73",
   "language": "python",
   "display_name": "PyCharm (scraping-ebay)"
  },
  "language_info": {
   "codemirror_mode": {
    "name": "ipython",
    "version": 2
   },
   "file_extension": ".py",
   "mimetype": "text/x-python",
   "name": "python",
   "nbconvert_exporter": "python",
   "pygments_lexer": "ipython2",
   "version": "2.7.6"
  },
  "pycharm": {
   "stem_cell": {
    "cell_type": "raw",
    "source": [],
    "metadata": {
     "collapsed": false
    }
   }
  }
 },
 "nbformat": 4,
 "nbformat_minor": 0
}