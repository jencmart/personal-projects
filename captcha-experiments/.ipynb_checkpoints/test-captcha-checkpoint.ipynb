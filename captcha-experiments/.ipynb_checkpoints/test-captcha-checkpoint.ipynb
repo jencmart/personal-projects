{
 "cells": [
  {
   "cell_type": "code",
   "execution_count": 1,
   "metadata": {},
   "outputs": [],
   "source": [
    "from captcha_solver import CaptchaSolver\n"
   ]
  },
  {
   "cell_type": "code",
   "execution_count": null,
   "metadata": {},
   "outputs": [],
   "source": [
    "solver = CaptchaSolver('browser')\n",
    "raw_data = open('captcha.jpg', 'rb').read()\n",
    "print(solver.solve_captcha(raw_data))"
   ]
  },
  {
   "cell_type": "code",
   "execution_count": 1,
   "metadata": {},
   "outputs": [],
   "source": [
    "                                                              "
   ]
  },
  {
   "cell_type": "code",
   "execution_count": null,
   "metadata": {},
   "outputs": [],
   "source": []
  },
  {
   "cell_type": "code",
   "execution_count": 2,
   "metadata": {},
   "outputs": [
    {
     "name": "stdout",
     "output_type": "stream",
     "text": [
      "\n"
     ]
    }
   ],
   "source": [
    "import pytesseract\n",
    "from PIL import Image, ImageEnhance, ImageFilter\n",
    "\n",
    "# im = Image.open(\"captcha.jpg\") # the second one \n",
    "# im = im.filter(ImageFilter.MedianFilter())\n",
    "# enhancer = ImageEnhance.Contrast(im)\n",
    "# im = enhancer.enhance(2)\n",
    "# im = im.convert('1')\n",
    "# im.save('temp2.jpg')\n",
    "text = pytesseract.image_to_string(Image.open('captcha.jpg'))\n",
    "print(text)"
   ]
  },
  {
   "cell_type": "code",
   "execution_count": 3,
   "metadata": {},
   "outputs": [
    {
     "data": {
      "image/png": "[encoded data removed]",
      "text/plain": [
       "<PIL.JpegImagePlugin.JpegImageFile image mode=RGB size=100x30 at 0x7F2D3C42BA58>"
      ]
     },
     "execution_count": 3,
     "metadata": {},
     "output_type": "execute_result"
    }
   ],
   "source": [
    "Image.open('captcha.jpg')"
   ]
  },
  {
   "cell_type": "code",
   "execution_count": 2,
   "metadata": {},
   "outputs": [
    {
     "name": "stdout",
     "output_type": "stream",
     "text": [
      "\n"
     ]
    }
   ],
   "source": [
    "\n",
    "import pytesseract\n",
    "import cv2\n",
    "import pytesseract\n",
    "from PIL import Image\n",
    "\n",
    "# from pdf2image import convert_from_path\n",
    "#img = Image.open('captcha.jpg')\n",
    "image = cv2.imread('captcha.jpg')\n",
    "\n",
    "gray = cv2.cvtColor(image, cv2.COLOR_BGR2GRAY)\n",
    "\n",
    "gray = cv2.threshold(gray, 0, 255, cv2.THRESH_BINARY | cv2.THRESH_OTSU)[1]\n",
    "\n",
    "#gray = cv2.medianBlur(gray, 3)\n",
    "\n",
    "filename = \"temp.png\"\n",
    "cv2.imwrite(filename, gray)\n",
    "text = pytesseract.image_to_string(Image.open('temp.png'))\n",
    "print (text)"
   ]
  },
  {
   "cell_type": "code",
   "execution_count": 4,
   "metadata": {},
   "outputs": [
    {
     "data": {
      "image/png": "[encoded data removed]",
      "text/plain": [
       "<PIL.JpegImagePlugin.JpegImageFile image mode=RGB size=100x30 at 0x7F12DD1955F8>"
      ]
     },
     "execution_count": 4,
     "metadata": {},
     "output_type": "execute_result"
    }
   ],
   "source": [
    "Image.open(\"captcha.jpg\")"
   ]
  },
  {
   "cell_type": "code",
   "execution_count": 8,
   "metadata": {},
   "outputs": [
    {
     "name": "stdout",
     "output_type": "stream",
     "text": [
      "Done: \n"
     ]
    }
   ],
   "source": [
    "import cv2\n",
    "import os\n",
    "import subprocess\n",
    "import time\n",
    "\n",
    "# file_list = set(os.listdir(\"captchas\"))\n",
    "\n",
    "# t_end = time.time() + 30\n",
    "# count = 0\n",
    "\n",
    "\n",
    "filename = \"captcha.jpg\"\n",
    "img = cv2.imread(filename, cv2.IMREAD_GRAYSCALE)\n",
    "img = cv2.resize(img, None, fx=10, fy=10, interpolation=cv2.INTER_LINEAR)\n",
    "img = cv2.medianBlur(img, 9)\n",
    "th, img = cv2.threshold(img, 185, 255, cv2.THRESH_BINARY)\n",
    "cv2.imwrite(\"image.jpg\", img)\n",
    "\n",
    "captcha_text = pytesseract.image_to_string(Image.open('image.jpg'))\n",
    "\n",
    "\n",
    "# command = ['tesseract', 'image.jpg', 'stdout', '--psm', '8', '--oem', '0', '-c', 'tessedit_char_whitelist=abcdefghijklmnopqrstuvwxyz', '--dpi', '70']\n",
    "# captcha_text = subprocess.check_output(command).decode().replace(\" \", \"\").rstrip().lower()\n",
    "# os.rename(filename, f\"captchas/{captcha_text}.png\")\n",
    "# count += 1\n",
    "print(f\"Done: {captcha_text}\")\n"
   ]
  },
  {
   "cell_type": "code",
   "execution_count": 9,
   "metadata": {},
   "outputs": [
    {
     "ename": "ModuleNotFoundError",
     "evalue": "No module named 'tesserocr'",
     "output_type": "error",
     "traceback": [
      "\u001b[0;31m---------------------------------------------------------------------------\u001b[0m",
      "\u001b[0;31mModuleNotFoundError\u001b[0m                       Traceback (most recent call last)",
      "\u001b[0;32m<ipython-input-9-90ca32bc4f9c>\u001b[0m in \u001b[0;36m<module>\u001b[0;34m\u001b[0m\n\u001b[1;32m      5\u001b[0m \u001b[0;32mimport\u001b[0m \u001b[0mlocale\u001b[0m\u001b[0;34m\u001b[0m\u001b[0;34m\u001b[0m\u001b[0m\n\u001b[1;32m      6\u001b[0m \u001b[0mlocale\u001b[0m\u001b[0;34m.\u001b[0m\u001b[0msetlocale\u001b[0m\u001b[0;34m(\u001b[0m\u001b[0mlocale\u001b[0m\u001b[0;34m.\u001b[0m\u001b[0mLC_ALL\u001b[0m\u001b[0;34m,\u001b[0m \u001b[0;34m'C'\u001b[0m\u001b[0;34m)\u001b[0m\u001b[0;34m\u001b[0m\u001b[0;34m\u001b[0m\u001b[0m\n\u001b[0;32m----> 7\u001b[0;31m \u001b[0;32mfrom\u001b[0m \u001b[0mtesserocr\u001b[0m \u001b[0;32mimport\u001b[0m \u001b[0mPyTessBaseAPI\u001b[0m\u001b[0;34m,\u001b[0m \u001b[0mPSM\u001b[0m\u001b[0;34m,\u001b[0m \u001b[0mOEM\u001b[0m\u001b[0;34m\u001b[0m\u001b[0;34m\u001b[0m\u001b[0m\n\u001b[0m\u001b[1;32m      8\u001b[0m \u001b[0;34m\u001b[0m\u001b[0m\n\u001b[1;32m      9\u001b[0m \u001b[0;34m\u001b[0m\u001b[0m\n",
      "\u001b[0;31mModuleNotFoundError\u001b[0m: No module named 'tesserocr'"
     ]
    }
   ],
   "source": [
    "import cv2\n",
    "import os\n",
    "import time\n",
    "# https://github.com/sirfz/tesserocr/issues/165\n",
    "import locale\n",
    "locale.setlocale(locale.LC_ALL, 'C')\n",
    "from tesserocr import PyTessBaseAPI, PSM, OEM\n",
    "\n",
    "\n",
    "filename = \"captcha.jpg\"\n",
    "img = cv2.imread(filename, cv2.IMREAD_GRAYSCALE)\n",
    "img = cv2.resize(img, None, fx=10, fy=10, interpolation=cv2.INTER_LINEAR)\n",
    "img = cv2.medianBlur(img, 9)\n",
    "th, img = cv2.threshold(img, 185, 255, cv2.THRESH_BINARY)\n",
    "cv2.imwrite(\"image.png\", img)\n",
    "api.SetImageFile(\"image.png\")\n",
    "captcha_text = api.GetUTF8Text().replace(\" \", \"\").rstrip().lower()\n",
    "print(f\"Done: {captcha_text}\")\n"
   ]
  },
  {
   "cell_type": "code",
   "execution_count": null,
   "metadata": {},
   "outputs": [],
   "source": []
  }
 ],
 "metadata": {
  "kernelspec": {
   "display_name": "Python 3",
   "language": "python",
   "name": "python3"
  },
  "language_info": {
   "codemirror_mode": {
    "name": "ipython",
    "version": 3
   },
   "file_extension": ".py",
   "mimetype": "text/x-python",
   "name": "python",
   "nbconvert_exporter": "python",
   "pygments_lexer": "ipython3",
   "version": "3.7.3"
  }
 },
 "nbformat": 4,
 "nbformat_minor": 2
}
